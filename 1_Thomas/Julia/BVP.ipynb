{
 "cells": [
  {
   "cell_type": "code",
   "execution_count": 87,
   "metadata": {},
   "outputs": [
    {
     "data": {
      "text/plain": [
       "thomas (generic function with 1 method)"
      ]
     },
     "metadata": {},
     "output_type": "display_data"
    }
   ],
   "source": [
    "function thomas(a,b,c,d)\n",
    "    last_x_index = length(a)  # 要素数を算出\n",
    "    # Thomas法の算出する係数\n",
    "    g = zeros(Float64, last_x_index)\n",
    "    s = zeros(Float64, last_x_index)\n",
    "    u = zeros(Float64, last_x_index)\n",
    "    # 係数を算出していく\n",
    "    for i = first_x_index:last_x_index\n",
    "        if i==1\n",
    "            g[i] = b[i]\n",
    "            s[i] = d[i]\n",
    "        else\n",
    "            g[i] = b[i] - a[i]*c[i-1] / g[i-1]\n",
    "            s[i] = d[i] - a[i]*s[i-1] / g[i-1]\n",
    "        end\n",
    "    end\n",
    "    # 一番最後の方程式の解を求める\n",
    "    u[last_x_index] = s[last_x_index] / g[last_x_index]\n",
    "    # 解を求める \n",
    "    for j = reverse(first_x_index:last_x_index)  # 逆からループする\n",
    "        if j==last_x_index\n",
    "            continue\n",
    "        end\n",
    "        u[j] = (s[j] - c[j]*u[j+1]) / g[j] \n",
    "    end\n",
    "    return u\n",
    "end"
   ]
  },
  {
   "cell_type": "code",
   "execution_count": 88,
   "metadata": {},
   "outputs": [
    {
     "data": {
      "text/plain": [
       "19-element Vector{Float64}:\n",
       " 0.009397210156336624\n",
       " 0.018645927287282406\n",
       " 0.027598029600009982\n",
       " 0.03610613683873754\n",
       " 0.04402397873536826\n",
       " 0.05120676068516055\n",
       " 0.05751152573323995\n",
       " 0.06279751196698626\n",
       " 0.06692650442081509\n",
       " 0.0697631806135919\n",
       " 0.07117544885483472\n",
       " 0.07103477847394046\n",
       " 0.06921652114686136\n",
       " 0.06560022251691512\n",
       " 0.06006992333067659\n",
       " 0.05251444933611135\n",
       " 0.042827689218205844\n",
       " 0.03090885987725483\n",
       " 0.01666275838661068"
      ]
     },
     "metadata": {},
     "output_type": "display_data"
    }
   ],
   "source": [
    "n = 20 # mesh number for x\n",
    "Δx = 1/n\n",
    "# 元のコードは、数式[0,n] -> [1,n+1]の格子になっていた。\n",
    "# おそらく、Fortranが1インデックスから始まるためにそれに合わせたのだと思われる。\n",
    "# しかし、ややこしいので、[0,n] の格子を使う。境界条件の 0,nは常に0なので省いて、[1,n-1]の配列を常に考える。\n",
    "first_x_index = 1  # il\n",
    "last_x_index = n-1  # i\n",
    "\n",
    "# n個の要素で0で初期化したベクトルを作成。Thomas法の係数部分に当たる。別にこういうふうに書く必要はあまりない。\n",
    "a = zeros(Float64, last_x_index)\n",
    "b = zeros(Float64, last_x_index)\n",
    "c = zeros(Float64, last_x_index)\n",
    "d = zeros(Float64, last_x_index)\n",
    "# 係数行列と照らし合わせて、Thomas法の係数に当たるものを入れていく。\n",
    "# i は行の番号。\n",
    "for i = first_x_index:last_x_index  # i = 1,2,...,n-1\n",
    "    a[i] = 1\n",
    "    b[i] = Δx^2 - 2\n",
    "    c[i] = 1\n",
    "    d[i] = -i * Δx^3\n",
    "end\n",
    "\n",
    "u = thomas(a,b,c,d)"
   ]
  },
  {
   "cell_type": "code",
   "execution_count": 90,
   "metadata": {},
   "outputs": [
    {
     "data": {
      "text/plain": [
       "19-element Vector{Float64}:\n",
       " 0.009395000152130399\n",
       " 0.018641543736198585\n",
       " 0.027591545248247834\n",
       " 0.03609766038506532\n",
       " 0.044013654328204754\n",
       " 0.05119476725487487\n",
       " 0.05749807616210695\n",
       " 0.06278285209982931\n",
       " 0.06691091191995241\n",
       " 0.06974696366227462\n",
       " 0.07115894471392381\n",
       " 0.07101835189711314\n",
       " 0.06920056266016172\n",
       " 0.06558514656897252\n",
       " 0.060056166320397564\n",
       " 0.05250246752511789\n",
       " 0.04281795653572784\n",
       " 0.030901865625601932\n",
       " 0.016659004855731574"
      ]
     },
     "metadata": {},
     "output_type": "display_data"
    }
   ],
   "source": [
    "# 解析解を作る\n",
    "u_analytical = Vector{Float64}()\n",
    "x_array = Vector{Float64}() \n",
    "for i = first_x_index:last_x_index\n",
    "    x = Δx * i\n",
    "    push!(x_array, x)\n",
    "    u_ = sin(x)/sin(1) - x\n",
    "    push!(u_analytical, u_)  # 空の配列 u_analytical に u_ を追加する。\n",
    "end\n",
    "u_analytical"
   ]
  },
  {
   "cell_type": "code",
   "execution_count": 91,
   "metadata": {},
   "outputs": [
    {
     "data": {
      "text/plain": [
       "19-element Vector{Float64}:\n",
       " 0.023523195002008872\n",
       " 0.02351495748342462\n",
       " 0.023501227291936516\n",
       " 0.023482002938151822\n",
       " 0.023457282339056515\n",
       " 0.0234270628206341\n",
       " 0.023391341120843286\n",
       " 0.0233501133934365\n",
       " 0.023303375212302118\n",
       " 0.02325112157684648\n",
       " 0.02319334691830957\n",
       " 0.02313004510597449\n",
       " 0.023061209455775982\n",
       " 0.022986832737726823\n",
       " 0.022906907186900086\n",
       " 0.02282142451253136\n",
       " 0.022730375911054982\n",
       " 0.02263375207710754\n",
       " 0.022531543220094114"
      ]
     },
     "metadata": {},
     "output_type": "display_data"
    }
   ],
   "source": [
    "# A / B は Aに右からBの逆行列を掛ける操作になる。\n",
    "# A ./ B は要素同士の割り算。　ドット演算はドットをつける。\n",
    "# 元のコードと同じエラーを算出\n",
    "err = (u - u_analytical) ./ u_analytical * 100"
   ]
  },
  {
   "cell_type": "code",
   "execution_count": 92,
   "metadata": {},
   "outputs": [],
   "source": [
    "# ファイルを書き出す。 適当なら以下でOK\n",
    "open(\"output.dat\", \"w\") do out\n",
    "    Base.print_array(out, hcat(x_array[:], u[:], u_analytical[:], err[:]))\n",
    "end"
   ]
  },
  {
   "cell_type": "code",
   "execution_count": 93,
   "metadata": {},
   "outputs": [
    {
     "data": {
      "text/plain": [
       "19-element Vector{Nothing}:\n",
       " nothing\n",
       " nothing\n",
       " nothing\n",
       " nothing\n",
       " nothing\n",
       " nothing\n",
       " nothing\n",
       " nothing\n",
       " nothing\n",
       " nothing\n",
       " nothing\n",
       " nothing\n",
       " nothing\n",
       " nothing\n",
       " nothing\n",
       " nothing\n",
       " nothing\n",
       " nothing\n",
       " nothing"
      ]
     },
     "metadata": {},
     "output_type": "display_data"
    }
   ],
   "source": [
    "# ちゃんと書き出し方を指定したい場合は以下\n",
    "using Printf\n",
    "open( \"output.dat\", \"w\" ) do out\n",
    "    [@printf(out, \"%7.7e %7.7e %7.7e %7.7e\\n\", x_array[k], u[k], u_analytical[k], err[k]) for k=1:length(x_array[:])]\n",
    "end"
   ]
  }
 ],
 "metadata": {
  "kernelspec": {
   "display_name": "Julia 1.9.0",
   "language": "julia",
   "name": "julia-1.9"
  },
  "language_info": {
   "file_extension": ".jl",
   "mimetype": "application/julia",
   "name": "julia",
   "version": "1.9.0"
  },
  "orig_nbformat": 4
 },
 "nbformat": 4,
 "nbformat_minor": 2
}
